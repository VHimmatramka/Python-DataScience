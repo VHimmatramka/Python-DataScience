{
 "cells": [
  {
   "cell_type": "markdown",
   "metadata": {},
   "source": [
    "## Import Libraries\n",
    "\n"
   ]
  },
  {
   "cell_type": "code",
   "execution_count": 8,
   "metadata": {
    "collapsed": true
   },
   "outputs": [],
   "source": [
    "import pandas as pd\n",
    "import seaborn as sns\n",
    "import matplotlib.pyplot as plt\n",
    "import numpy as np\n",
    "%matplotlib inline"
   ]
  },
  {
   "cell_type": "markdown",
   "metadata": {},
   "source": [
    "## Get the Data\n",
    "\n",
    "Set index_col=0 to use the first column as the index."
   ]
  },
  {
   "cell_type": "code",
   "execution_count": 22,
   "metadata": {},
   "outputs": [],
   "source": [
    "Accepted_Papers = pd.read_csv(\"[UCI] AAAI-14 Accepted Papers - Papers.csv\",index_col=0)\n",
    "X = Accepted_Papers.iloc[:, [1, 2]].values"
   ]
  },
  {
   "cell_type": "code",
   "execution_count": 23,
   "metadata": {},
   "outputs": [
    {
     "data": {
      "text/html": [
       "<div>\n",
       "<style>\n",
       "    .dataframe thead tr:only-child th {\n",
       "        text-align: right;\n",
       "    }\n",
       "\n",
       "    .dataframe thead th {\n",
       "        text-align: left;\n",
       "    }\n",
       "\n",
       "    .dataframe tbody tr th {\n",
       "        vertical-align: top;\n",
       "    }\n",
       "</style>\n",
       "<table border=\"1\" class=\"dataframe\">\n",
       "  <thead>\n",
       "    <tr style=\"text-align: right;\">\n",
       "      <th></th>\n",
       "      <th>authors</th>\n",
       "      <th>groups</th>\n",
       "      <th>keywords</th>\n",
       "      <th>topics</th>\n",
       "      <th>abstract</th>\n",
       "    </tr>\n",
       "    <tr>\n",
       "      <th>title</th>\n",
       "      <th></th>\n",
       "      <th></th>\n",
       "      <th></th>\n",
       "      <th></th>\n",
       "      <th></th>\n",
       "    </tr>\n",
       "  </thead>\n",
       "  <tbody>\n",
       "    <tr>\n",
       "      <th>Kernelized Bayesian Transfer Learning</th>\n",
       "      <td>Mehmet Gönen and Adam A. Margolin</td>\n",
       "      <td>Novel Machine Learning Algorithms (NMLA)</td>\n",
       "      <td>cross-domain learning\\ndomain adaptation\\nkern...</td>\n",
       "      <td>APP: Biomedical / Bioinformatics\\nNMLA: Bayesi...</td>\n",
       "      <td>Transfer learning considers related but distin...</td>\n",
       "    </tr>\n",
       "    <tr>\n",
       "      <th>\"Source Free\" Transfer Learning for Text Classification</th>\n",
       "      <td>Zhongqi Lu, Yin Zhu, Sinno Pan, Evan Xiang, Yu...</td>\n",
       "      <td>AI and the Web (AIW)\\nNovel Machine Learning A...</td>\n",
       "      <td>Transfer Learning\\nAuxiliary Data Retrieval\\nT...</td>\n",
       "      <td>AIW: Knowledge acquisition from the web\\nAIW: ...</td>\n",
       "      <td>Transfer learning uses relevant auxiliary data...</td>\n",
       "    </tr>\n",
       "    <tr>\n",
       "      <th>A Generalization of Probabilistic Serial to Randomized Social Choice</th>\n",
       "      <td>Haris Aziz and Paul Stursberg</td>\n",
       "      <td>Game Theory and Economic Paradigms (GTEP)</td>\n",
       "      <td>social choice theory\\nvoting\\nfair division\\ns...</td>\n",
       "      <td>GTEP: Game Theory\\nGTEP: Social Choice / Voting</td>\n",
       "      <td>The probabilistic serial (PS) rule is one of t...</td>\n",
       "    </tr>\n",
       "    <tr>\n",
       "      <th>Lifetime Lexical Variation in Social Media</th>\n",
       "      <td>Liao Lizi, Jing Jiang, Ying Ding, Heyan Huang ...</td>\n",
       "      <td>NLP and Text Mining (NLPTM)</td>\n",
       "      <td>Generative model\\nSocial Networks\\nAge Prediction</td>\n",
       "      <td>AIW: Web personalization and user modeling\\nNL...</td>\n",
       "      <td>As the rapid growth of online social media att...</td>\n",
       "    </tr>\n",
       "    <tr>\n",
       "      <th>Hybrid Singular Value Thresholding for Tensor Completion</th>\n",
       "      <td>Xiaoqin Zhang, Zhengyuan Zhou, Di Wang and Yi Ma</td>\n",
       "      <td>Knowledge Representation and Reasoning (KRR)\\n...</td>\n",
       "      <td>tensor completion\\nlow-rank recovery\\nhybrid s...</td>\n",
       "      <td>KRR: Knowledge Representation (General/Other)\\...</td>\n",
       "      <td>In this paper, we study the low-rank tensor co...</td>\n",
       "    </tr>\n",
       "  </tbody>\n",
       "</table>\n",
       "</div>"
      ],
      "text/plain": [
       "                                                                                              authors  \\\n",
       "title                                                                                                   \n",
       "Kernelized Bayesian Transfer Learning                               Mehmet Gönen and Adam A. Margolin   \n",
       "\"Source Free\" Transfer Learning for Text Classi...  Zhongqi Lu, Yin Zhu, Sinno Pan, Evan Xiang, Yu...   \n",
       "A Generalization of Probabilistic Serial to Ran...                      Haris Aziz and Paul Stursberg   \n",
       "Lifetime Lexical Variation in Social Media          Liao Lizi, Jing Jiang, Ying Ding, Heyan Huang ...   \n",
       "Hybrid Singular Value Thresholding for Tensor C...   Xiaoqin Zhang, Zhengyuan Zhou, Di Wang and Yi Ma   \n",
       "\n",
       "                                                                                               groups  \\\n",
       "title                                                                                                   \n",
       "Kernelized Bayesian Transfer Learning                        Novel Machine Learning Algorithms (NMLA)   \n",
       "\"Source Free\" Transfer Learning for Text Classi...  AI and the Web (AIW)\\nNovel Machine Learning A...   \n",
       "A Generalization of Probabilistic Serial to Ran...          Game Theory and Economic Paradigms (GTEP)   \n",
       "Lifetime Lexical Variation in Social Media                                NLP and Text Mining (NLPTM)   \n",
       "Hybrid Singular Value Thresholding for Tensor C...  Knowledge Representation and Reasoning (KRR)\\n...   \n",
       "\n",
       "                                                                                             keywords  \\\n",
       "title                                                                                                   \n",
       "Kernelized Bayesian Transfer Learning               cross-domain learning\\ndomain adaptation\\nkern...   \n",
       "\"Source Free\" Transfer Learning for Text Classi...  Transfer Learning\\nAuxiliary Data Retrieval\\nT...   \n",
       "A Generalization of Probabilistic Serial to Ran...  social choice theory\\nvoting\\nfair division\\ns...   \n",
       "Lifetime Lexical Variation in Social Media          Generative model\\nSocial Networks\\nAge Prediction   \n",
       "Hybrid Singular Value Thresholding for Tensor C...  tensor completion\\nlow-rank recovery\\nhybrid s...   \n",
       "\n",
       "                                                                                               topics  \\\n",
       "title                                                                                                   \n",
       "Kernelized Bayesian Transfer Learning               APP: Biomedical / Bioinformatics\\nNMLA: Bayesi...   \n",
       "\"Source Free\" Transfer Learning for Text Classi...  AIW: Knowledge acquisition from the web\\nAIW: ...   \n",
       "A Generalization of Probabilistic Serial to Ran...    GTEP: Game Theory\\nGTEP: Social Choice / Voting   \n",
       "Lifetime Lexical Variation in Social Media          AIW: Web personalization and user modeling\\nNL...   \n",
       "Hybrid Singular Value Thresholding for Tensor C...  KRR: Knowledge Representation (General/Other)\\...   \n",
       "\n",
       "                                                                                             abstract  \n",
       "title                                                                                                  \n",
       "Kernelized Bayesian Transfer Learning               Transfer learning considers related but distin...  \n",
       "\"Source Free\" Transfer Learning for Text Classi...  Transfer learning uses relevant auxiliary data...  \n",
       "A Generalization of Probabilistic Serial to Ran...  The probabilistic serial (PS) rule is one of t...  \n",
       "Lifetime Lexical Variation in Social Media          As the rapid growth of online social media att...  \n",
       "Hybrid Singular Value Thresholding for Tensor C...  In this paper, we study the low-rank tensor co...  "
      ]
     },
     "execution_count": 23,
     "metadata": {},
     "output_type": "execute_result"
    }
   ],
   "source": [
    "Accepted_Papers.head()"
   ]
  },
  {
   "cell_type": "code",
   "execution_count": 24,
   "metadata": {},
   "outputs": [
    {
     "data": {
      "text/html": [
       "<div>\n",
       "<style>\n",
       "    .dataframe thead tr:only-child th {\n",
       "        text-align: right;\n",
       "    }\n",
       "\n",
       "    .dataframe thead th {\n",
       "        text-align: left;\n",
       "    }\n",
       "\n",
       "    .dataframe tbody tr th {\n",
       "        vertical-align: top;\n",
       "    }\n",
       "</style>\n",
       "<table border=\"1\" class=\"dataframe\">\n",
       "  <thead>\n",
       "    <tr style=\"text-align: right;\">\n",
       "      <th></th>\n",
       "      <th>authors</th>\n",
       "      <th>groups</th>\n",
       "      <th>keywords</th>\n",
       "      <th>topics</th>\n",
       "      <th>abstract</th>\n",
       "    </tr>\n",
       "  </thead>\n",
       "  <tbody>\n",
       "    <tr>\n",
       "      <th>count</th>\n",
       "      <td>398</td>\n",
       "      <td>396</td>\n",
       "      <td>398</td>\n",
       "      <td>394</td>\n",
       "      <td>398</td>\n",
       "    </tr>\n",
       "    <tr>\n",
       "      <th>unique</th>\n",
       "      <td>391</td>\n",
       "      <td>125</td>\n",
       "      <td>398</td>\n",
       "      <td>350</td>\n",
       "      <td>398</td>\n",
       "    </tr>\n",
       "    <tr>\n",
       "      <th>top</th>\n",
       "      <td>Deguang Kong, Chris Ding and Qihe Pan</td>\n",
       "      <td>Novel Machine Learning Algorithms (NMLA)</td>\n",
       "      <td>Equilibrium existence\\nEquilibrium computation...</td>\n",
       "      <td>GTEP: Social Choice / Voting</td>\n",
       "      <td>Sequential learning for classification tasks i...</td>\n",
       "    </tr>\n",
       "    <tr>\n",
       "      <th>freq</th>\n",
       "      <td>3</td>\n",
       "      <td>50</td>\n",
       "      <td>1</td>\n",
       "      <td>7</td>\n",
       "      <td>1</td>\n",
       "    </tr>\n",
       "  </tbody>\n",
       "</table>\n",
       "</div>"
      ],
      "text/plain": [
       "                                      authors  \\\n",
       "count                                     398   \n",
       "unique                                    391   \n",
       "top     Deguang Kong, Chris Ding and Qihe Pan   \n",
       "freq                                        3   \n",
       "\n",
       "                                          groups  \\\n",
       "count                                        396   \n",
       "unique                                       125   \n",
       "top     Novel Machine Learning Algorithms (NMLA)   \n",
       "freq                                          50   \n",
       "\n",
       "                                                 keywords  \\\n",
       "count                                                 398   \n",
       "unique                                                398   \n",
       "top     Equilibrium existence\\nEquilibrium computation...   \n",
       "freq                                                    1   \n",
       "\n",
       "                              topics  \\\n",
       "count                            394   \n",
       "unique                           350   \n",
       "top     GTEP: Social Choice / Voting   \n",
       "freq                               7   \n",
       "\n",
       "                                                 abstract  \n",
       "count                                                 398  \n",
       "unique                                                398  \n",
       "top     Sequential learning for classification tasks i...  \n",
       "freq                                                    1  "
      ]
     },
     "execution_count": 24,
     "metadata": {},
     "output_type": "execute_result"
    }
   ],
   "source": [
    "Accepted_Papers.describe()"
   ]
  },
  {
   "cell_type": "code",
   "execution_count": 25,
   "metadata": {},
   "outputs": [
    {
     "name": "stdout",
     "output_type": "stream",
     "text": [
      "<class 'pandas.core.frame.DataFrame'>\n",
      "Index: 398 entries, Kernelized Bayesian Transfer Learning to Supervised Transfer Sparse Coding\n",
      "Data columns (total 5 columns):\n",
      "authors     398 non-null object\n",
      "groups      396 non-null object\n",
      "keywords    398 non-null object\n",
      "topics      394 non-null object\n",
      "abstract    398 non-null object\n",
      "dtypes: object(5)\n",
      "memory usage: 18.7+ KB\n"
     ]
    }
   ],
   "source": [
    "Accepted_Papers.info()"
   ]
  },
  {
   "cell_type": "markdown",
   "metadata": {},
   "source": [
    "## EDA"
   ]
  },
  {
   "cell_type": "code",
   "execution_count": 26,
   "metadata": {},
   "outputs": [
    {
     "data": {
      "text/plain": [
       "<matplotlib.axes._subplots.AxesSubplot at 0x294756e66a0>"
      ]
     },
     "execution_count": 26,
     "metadata": {},
     "output_type": "execute_result"
    },
    {
     "data": {
      "image/png": "[encoded data removed]",
      "text/plain": [
       "<matplotlib.figure.Figure at 0x294756e6a58>"
      ]
     },
     "metadata": {},
     "output_type": "display_data"
    }
   ],
   "source": [
    "sns.heatmap(Accepted_Papers.isnull(),yticklabels=False,cbar=False,cmap='viridis')"
   ]
  },
  {
   "cell_type": "markdown",
   "metadata": {},
   "source": [
    "No missing data"
   ]
  },
  {
   "cell_type": "code",
   "execution_count": 28,
   "metadata": {},
   "outputs": [],
   "source": [
    "def matrix_from_Accepted_Papers(data_train):\n",
    " matrix = data_train.pivot_table(index = ['title'], columns=['groups'],\n",
    "values='flags')\n",
    " matrix = matrix.fillna(0).reset_index()\n",
    " x_cols = matrix.columns[1:]\n",
    " return matrix, x_cols"
   ]
  },
  {
   "cell_type": "code",
   "execution_count": 29,
   "metadata": {},
   "outputs": [
    {
     "data": {
      "text/html": [
       "<div>\n",
       "<style>\n",
       "    .dataframe thead tr:only-child th {\n",
       "        text-align: right;\n",
       "    }\n",
       "\n",
       "    .dataframe thead th {\n",
       "        text-align: left;\n",
       "    }\n",
       "\n",
       "    .dataframe tbody tr th {\n",
       "        vertical-align: top;\n",
       "    }\n",
       "</style>\n",
       "<table border=\"1\" class=\"dataframe\">\n",
       "  <thead>\n",
       "    <tr style=\"text-align: right;\">\n",
       "      <th></th>\n",
       "      <th>index</th>\n",
       "      <th>title</th>\n",
       "      <th>keywords</th>\n",
       "      <th>topics</th>\n",
       "      <th>groups</th>\n",
       "      <th>flags</th>\n",
       "    </tr>\n",
       "  </thead>\n",
       "  <tbody>\n",
       "    <tr>\n",
       "      <th>0</th>\n",
       "      <td>0</td>\n",
       "      <td>Kernelized Bayesian Transfer Learning</td>\n",
       "      <td>cross-domain learning\\ndomain adaptation\\nkern...</td>\n",
       "      <td>APP: Biomedical / Bioinformatics\\nNMLA: Bayesi...</td>\n",
       "      <td>Novel Machine Learning Algorithms (NMLA)</td>\n",
       "      <td>1.0</td>\n",
       "    </tr>\n",
       "    <tr>\n",
       "      <th>1</th>\n",
       "      <td>1</td>\n",
       "      <td>\"Source Free\" Transfer Learning for Text Class...</td>\n",
       "      <td>Transfer Learning\\nAuxiliary Data Retrieval\\nT...</td>\n",
       "      <td>AIW: Knowledge acquisition from the web\\nAIW: ...</td>\n",
       "      <td>AI and the Web (AIW)</td>\n",
       "      <td>1.0</td>\n",
       "    </tr>\n",
       "    <tr>\n",
       "      <th>2</th>\n",
       "      <td>1</td>\n",
       "      <td>\"Source Free\" Transfer Learning for Text Class...</td>\n",
       "      <td>Transfer Learning\\nAuxiliary Data Retrieval\\nT...</td>\n",
       "      <td>AIW: Knowledge acquisition from the web\\nAIW: ...</td>\n",
       "      <td>Novel Machine Learning Algorithms (NMLA)</td>\n",
       "      <td>1.0</td>\n",
       "    </tr>\n",
       "    <tr>\n",
       "      <th>3</th>\n",
       "      <td>2</td>\n",
       "      <td>A Generalization of Probabilistic Serial to Ra...</td>\n",
       "      <td>social choice theory\\nvoting\\nfair division\\ns...</td>\n",
       "      <td>GTEP: Game Theory\\nGTEP: Social Choice / Voting</td>\n",
       "      <td>Game Theory and Economic Paradigms (GTEP)</td>\n",
       "      <td>1.0</td>\n",
       "    </tr>\n",
       "    <tr>\n",
       "      <th>4</th>\n",
       "      <td>3</td>\n",
       "      <td>Lifetime Lexical Variation in Social Media</td>\n",
       "      <td>Generative model\\nSocial Networks\\nAge Prediction</td>\n",
       "      <td>AIW: Web personalization and user modeling\\nNL...</td>\n",
       "      <td>NLP and Text Mining (NLPTM)</td>\n",
       "      <td>1.0</td>\n",
       "    </tr>\n",
       "  </tbody>\n",
       "</table>\n",
       "</div>"
      ],
      "text/plain": [
       "   index                                              title  \\\n",
       "0      0              Kernelized Bayesian Transfer Learning   \n",
       "1      1  \"Source Free\" Transfer Learning for Text Class...   \n",
       "2      1  \"Source Free\" Transfer Learning for Text Class...   \n",
       "3      2  A Generalization of Probabilistic Serial to Ra...   \n",
       "4      3         Lifetime Lexical Variation in Social Media   \n",
       "\n",
       "                                            keywords  \\\n",
       "0  cross-domain learning\\ndomain adaptation\\nkern...   \n",
       "1  Transfer Learning\\nAuxiliary Data Retrieval\\nT...   \n",
       "2  Transfer Learning\\nAuxiliary Data Retrieval\\nT...   \n",
       "3  social choice theory\\nvoting\\nfair division\\ns...   \n",
       "4  Generative model\\nSocial Networks\\nAge Prediction   \n",
       "\n",
       "                                              topics  \\\n",
       "0  APP: Biomedical / Bioinformatics\\nNMLA: Bayesi...   \n",
       "1  AIW: Knowledge acquisition from the web\\nAIW: ...   \n",
       "2  AIW: Knowledge acquisition from the web\\nAIW: ...   \n",
       "3    GTEP: Game Theory\\nGTEP: Social Choice / Voting   \n",
       "4  AIW: Web personalization and user modeling\\nNL...   \n",
       "\n",
       "                                      groups  flags  \n",
       "0   Novel Machine Learning Algorithms (NMLA)    1.0  \n",
       "1                       AI and the Web (AIW)    1.0  \n",
       "2   Novel Machine Learning Algorithms (NMLA)    1.0  \n",
       "3  Game Theory and Economic Paradigms (GTEP)    1.0  \n",
       "4                NLP and Text Mining (NLPTM)    1.0  "
      ]
     },
     "execution_count": 29,
     "metadata": {},
     "output_type": "execute_result"
    }
   ],
   "source": [
    "data_train = pd.read_csv('[UCI] AAAI-14 Accepted Papers - Papers.csv')\n",
    "data_train = data_train[['title', 'groups', 'keywords', 'topics']]\n",
    "s = data_train['groups'].str.split('\\n').apply(pd.Series, 1).stack()\n",
    "s.index = s.index.droplevel(-1)\n",
    "s.name = 'groups'\n",
    "del data_train['groups']\n",
    "data_train = data_train.join(s).reset_index()\n",
    "data_train['flags'] = pd.Series(np.ones(len(data_train)),\n",
    "index=data_train.index)\n",
    "data_train.head()"
   ]
  },
  {
   "cell_type": "code",
   "execution_count": 30,
   "metadata": {
    "collapsed": true
   },
   "outputs": [],
   "source": [
    "matrix, x_cols = matrix_from_df(data_train)"
   ]
  },
  {
   "cell_type": "code",
   "execution_count": 31,
   "metadata": {},
   "outputs": [
    {
     "data": {
      "text/plain": [
       "0    81\n",
       "1    78\n",
       "5    44\n",
       "3    38\n",
       "6    36\n",
       "2    32\n",
       "8    30\n",
       "7    30\n",
       "4    27\n",
       "Name: cluster, dtype: int64"
      ]
     },
     "execution_count": 31,
     "metadata": {},
     "output_type": "execute_result"
    }
   ],
   "source": [
    "X = matrix[x_cols]\n",
    "from sklearn.cluster import KMeans\n",
    "cluster = KMeans(n_clusters = 9, random_state = 2)\n",
    "matrix['cluster'] = cluster.fit_predict(X)\n",
    "matrix.cluster.value_counts()"
   ]
  },
  {
   "cell_type": "markdown",
   "metadata": {},
   "source": [
    "The above results shows that how many items are their in above 9 clusters"
   ]
  },
  {
   "cell_type": "code",
   "execution_count": 32,
   "metadata": {},
   "outputs": [
    {
     "data": {
      "text/plain": [
       "array([[  1.38777878e-17,   5.55111512e-17,   6.17283951e-02,\n",
       "          8.64197531e-02,   8.64197531e-02,   2.46913580e-02,\n",
       "         -5.55111512e-17,   1.35802469e-01,   1.04083409e-17,\n",
       "          8.64197531e-02,  -1.11022302e-16,   1.66533454e-16,\n",
       "          2.46913580e-02,   3.70370370e-02,   7.40740741e-02,\n",
       "          6.17283951e-02,  -3.88578059e-16,   2.83950617e-01,\n",
       "          1.85185185e-01,   1.11111111e-01,   0.00000000e+00,\n",
       "          1.23456790e-01],\n",
       "       [  7.69230769e-02,   1.28205128e-02,   1.28205128e-02,\n",
       "          1.28205128e-02,   1.28205128e-02,  -1.90819582e-17,\n",
       "         -5.55111512e-17,   2.56410256e-02,   1.28205128e-02,\n",
       "          1.28205128e-02,  -1.11022302e-16,   1.66533454e-16,\n",
       "          0.00000000e+00,  -3.81639165e-17,   5.12820513e-02,\n",
       "          1.28205128e-02,   1.00000000e+00,   1.28205128e-02,\n",
       "          1.02564103e-01,   0.00000000e+00,   1.28205128e-02,\n",
       "          6.41025641e-02],\n",
       "       [  2.77555756e-17,   4.16333634e-17,   1.04083409e-17,\n",
       "         -2.08166817e-17,   3.12500000e-02,  -1.04083409e-17,\n",
       "          1.00000000e+00,   0.00000000e+00,   3.12500000e-02,\n",
       "          2.08166817e-17,   3.12500000e-02,   1.38777878e-16,\n",
       "          0.00000000e+00,  -2.08166817e-17,  -2.08166817e-17,\n",
       "          1.04083409e-17,   5.55111512e-17,   3.12500000e-02,\n",
       "          3.12500000e-02,   6.93889390e-18,   1.38777878e-17,\n",
       "          0.00000000e+00],\n",
       "       [  1.57894737e-01,   2.10526316e-01,   1.04083409e-17,\n",
       "         -2.42861287e-17,   7.89473684e-02,  -1.21430643e-17,\n",
       "          5.55111512e-17,   5.26315789e-02,   2.63157895e-02,\n",
       "          7.89473684e-02,   2.63157895e-02,   1.00000000e+00,\n",
       "          2.63157895e-02,   5.26315789e-02,   1.05263158e-01,\n",
       "          1.04083409e-17,  -5.55111512e-17,  -4.16333634e-17,\n",
       "          2.63157895e-02,   5.26315789e-02,   4.16333634e-17,\n",
       "          1.57894737e-01],\n",
       "       [  2.77555756e-17,   2.77555756e-17,   1.04083409e-17,\n",
       "         -1.38777878e-17,   3.70370370e-02,  -6.93889390e-18,\n",
       "         -5.55111512e-17,   2.59259259e-01,   1.04083409e-17,\n",
       "          2.08166817e-17,   1.11111111e-01,   7.40740741e-02,\n",
       "          1.11111111e-01,  -1.38777878e-17,  -2.08166817e-17,\n",
       "          6.93889390e-18,   1.11022302e-16,   1.48148148e-01,\n",
       "          7.40740741e-02,   0.00000000e+00,   1.00000000e+00,\n",
       "          0.00000000e+00],\n",
       "       [  1.36363636e-01,   6.81818182e-02,   1.21430643e-17,\n",
       "          4.54545455e-02,   4.85722573e-17,   4.54545455e-02,\n",
       "          1.11022302e-16,   2.27272727e-02,   2.27272727e-02,\n",
       "          2.27272727e-02,   1.00000000e+00,   1.66533454e-16,\n",
       "          0.00000000e+00,   4.54545455e-02,   2.27272727e-02,\n",
       "          1.38777878e-17,  -1.66533454e-16,   1.59090909e-01,\n",
       "          1.36363636e-01,   3.46944695e-17,   6.93889390e-17,\n",
       "          0.00000000e+00],\n",
       "       [  8.33333333e-01,   4.16666667e-01,   1.04083409e-17,\n",
       "         -2.42861287e-17,   3.46944695e-17,   2.77777778e-02,\n",
       "          2.77555756e-17,   2.77777778e-02,   1.04083409e-17,\n",
       "          2.08166817e-17,   2.77555756e-17,   2.77777778e-02,\n",
       "          0.00000000e+00,   5.55555556e-02,   5.55555556e-02,\n",
       "          8.33333333e-02,   2.77777778e-02,   2.77777778e-02,\n",
       "         -4.16333634e-17,   2.77777778e-02,   4.16333634e-17,\n",
       "          2.77777778e-02],\n",
       "       [  3.33333333e-02,   2.00000000e-01,   1.04083409e-17,\n",
       "         -1.73472348e-17,   3.33333333e-02,  -8.67361738e-18,\n",
       "          6.66666667e-02,   3.33333333e-02,   3.33333333e-02,\n",
       "          2.08166817e-17,   1.00000000e-01,   1.00000000e+00,\n",
       "          3.33333333e-02,   3.33333333e-02,   6.66666667e-02,\n",
       "          1.04083409e-17,   1.00000000e+00,   6.66666667e-02,\n",
       "          1.33333333e-01,   3.33333333e-02,   0.00000000e+00,\n",
       "          1.00000000e-01],\n",
       "       [  2.77555756e-17,   1.00000000e-01,   1.04083409e-17,\n",
       "         -1.73472348e-17,   1.00000000e-01,  -8.67361738e-18,\n",
       "          7.66666667e-01,   0.00000000e+00,   3.33333333e-02,\n",
       "          2.08166817e-17,   3.33333333e-02,   1.38777878e-16,\n",
       "          1.00000000e+00,  -1.73472348e-17,  -2.08166817e-17,\n",
       "          1.04083409e-17,   1.11022302e-16,  -1.38777878e-17,\n",
       "          3.33333333e-02,   3.33333333e-02,   0.00000000e+00,\n",
       "          0.00000000e+00]])"
      ]
     },
     "execution_count": 32,
     "metadata": {},
     "output_type": "execute_result"
    }
   ],
   "source": [
    "cluster.cluster_centers_"
   ]
  },
  {
   "cell_type": "code",
   "execution_count": 34,
   "metadata": {},
   "outputs": [
    {
     "name": "stderr",
     "output_type": "stream",
     "text": [
      "C:\\Users\\Vrun\\Anaconda3\\lib\\site-packages\\pandas\\core\\indexes\\api.py:77: RuntimeWarning: '<' not supported between instances of 'str' and 'int', sort order is undefined for incomparable objects\n",
      "  result = result.union(other)\n"
     ]
    },
    {
     "data": {
      "text/html": [
       "<div>\n",
       "<style>\n",
       "    .dataframe thead tr:only-child th {\n",
       "        text-align: right;\n",
       "    }\n",
       "\n",
       "    .dataframe thead th {\n",
       "        text-align: left;\n",
       "    }\n",
       "\n",
       "    .dataframe tbody tr th {\n",
       "        vertical-align: top;\n",
       "    }\n",
       "</style>\n",
       "<table border=\"1\" class=\"dataframe\">\n",
       "  <thead>\n",
       "    <tr style=\"text-align: right;\">\n",
       "      <th></th>\n",
       "      <th>authors</th>\n",
       "      <th>groups</th>\n",
       "      <th>keywords</th>\n",
       "      <th>topics</th>\n",
       "      <th>abstract</th>\n",
       "    </tr>\n",
       "    <tr>\n",
       "      <th>title</th>\n",
       "      <th></th>\n",
       "      <th></th>\n",
       "      <th></th>\n",
       "      <th></th>\n",
       "      <th></th>\n",
       "    </tr>\n",
       "  </thead>\n",
       "  <tbody>\n",
       "    <tr>\n",
       "      <th>Kernelized Bayesian Transfer Learning</th>\n",
       "      <td>Mehmet Gönen and Adam A. Margolin</td>\n",
       "      <td>Novel Machine Learning Algorithms (NMLA)</td>\n",
       "      <td>cross-domain learning\\ndomain adaptation\\nkern...</td>\n",
       "      <td>APP: Biomedical / Bioinformatics\\nNMLA: Bayesi...</td>\n",
       "      <td>Transfer learning considers related but distin...</td>\n",
       "    </tr>\n",
       "    <tr>\n",
       "      <th>\"Source Free\" Transfer Learning for Text Classification</th>\n",
       "      <td>Zhongqi Lu, Yin Zhu, Sinno Pan, Evan Xiang, Yu...</td>\n",
       "      <td>AI and the Web (AIW)\\nNovel Machine Learning A...</td>\n",
       "      <td>Transfer Learning\\nAuxiliary Data Retrieval\\nT...</td>\n",
       "      <td>AIW: Knowledge acquisition from the web\\nAIW: ...</td>\n",
       "      <td>Transfer learning uses relevant auxiliary data...</td>\n",
       "    </tr>\n",
       "    <tr>\n",
       "      <th>A Generalization of Probabilistic Serial to Randomized Social Choice</th>\n",
       "      <td>Haris Aziz and Paul Stursberg</td>\n",
       "      <td>Game Theory and Economic Paradigms (GTEP)</td>\n",
       "      <td>social choice theory\\nvoting\\nfair division\\ns...</td>\n",
       "      <td>GTEP: Game Theory\\nGTEP: Social Choice / Voting</td>\n",
       "      <td>The probabilistic serial (PS) rule is one of t...</td>\n",
       "    </tr>\n",
       "    <tr>\n",
       "      <th>Lifetime Lexical Variation in Social Media</th>\n",
       "      <td>Liao Lizi, Jing Jiang, Ying Ding, Heyan Huang ...</td>\n",
       "      <td>NLP and Text Mining (NLPTM)</td>\n",
       "      <td>Generative model\\nSocial Networks\\nAge Prediction</td>\n",
       "      <td>AIW: Web personalization and user modeling\\nNL...</td>\n",
       "      <td>As the rapid growth of online social media att...</td>\n",
       "    </tr>\n",
       "    <tr>\n",
       "      <th>Hybrid Singular Value Thresholding for Tensor Completion</th>\n",
       "      <td>Xiaoqin Zhang, Zhengyuan Zhou, Di Wang and Yi Ma</td>\n",
       "      <td>Knowledge Representation and Reasoning (KRR)\\n...</td>\n",
       "      <td>tensor completion\\nlow-rank recovery\\nhybrid s...</td>\n",
       "      <td>KRR: Knowledge Representation (General/Other)\\...</td>\n",
       "      <td>In this paper, we study the low-rank tensor co...</td>\n",
       "    </tr>\n",
       "  </tbody>\n",
       "</table>\n",
       "</div>"
      ],
      "text/plain": [
       "                                                                                              authors  \\\n",
       "title                                                                                                   \n",
       "Kernelized Bayesian Transfer Learning                               Mehmet Gönen and Adam A. Margolin   \n",
       "\"Source Free\" Transfer Learning for Text Classi...  Zhongqi Lu, Yin Zhu, Sinno Pan, Evan Xiang, Yu...   \n",
       "A Generalization of Probabilistic Serial to Ran...                      Haris Aziz and Paul Stursberg   \n",
       "Lifetime Lexical Variation in Social Media          Liao Lizi, Jing Jiang, Ying Ding, Heyan Huang ...   \n",
       "Hybrid Singular Value Thresholding for Tensor C...   Xiaoqin Zhang, Zhengyuan Zhou, Di Wang and Yi Ma   \n",
       "\n",
       "                                                                                               groups  \\\n",
       "title                                                                                                   \n",
       "Kernelized Bayesian Transfer Learning                        Novel Machine Learning Algorithms (NMLA)   \n",
       "\"Source Free\" Transfer Learning for Text Classi...  AI and the Web (AIW)\\nNovel Machine Learning A...   \n",
       "A Generalization of Probabilistic Serial to Ran...          Game Theory and Economic Paradigms (GTEP)   \n",
       "Lifetime Lexical Variation in Social Media                                NLP and Text Mining (NLPTM)   \n",
       "Hybrid Singular Value Thresholding for Tensor C...  Knowledge Representation and Reasoning (KRR)\\n...   \n",
       "\n",
       "                                                                                             keywords  \\\n",
       "title                                                                                                   \n",
       "Kernelized Bayesian Transfer Learning               cross-domain learning\\ndomain adaptation\\nkern...   \n",
       "\"Source Free\" Transfer Learning for Text Classi...  Transfer Learning\\nAuxiliary Data Retrieval\\nT...   \n",
       "A Generalization of Probabilistic Serial to Ran...  social choice theory\\nvoting\\nfair division\\ns...   \n",
       "Lifetime Lexical Variation in Social Media          Generative model\\nSocial Networks\\nAge Prediction   \n",
       "Hybrid Singular Value Thresholding for Tensor C...  tensor completion\\nlow-rank recovery\\nhybrid s...   \n",
       "\n",
       "                                                                                               topics  \\\n",
       "title                                                                                                   \n",
       "Kernelized Bayesian Transfer Learning               APP: Biomedical / Bioinformatics\\nNMLA: Bayesi...   \n",
       "\"Source Free\" Transfer Learning for Text Classi...  AIW: Knowledge acquisition from the web\\nAIW: ...   \n",
       "A Generalization of Probabilistic Serial to Ran...    GTEP: Game Theory\\nGTEP: Social Choice / Voting   \n",
       "Lifetime Lexical Variation in Social Media          AIW: Web personalization and user modeling\\nNL...   \n",
       "Hybrid Singular Value Thresholding for Tensor C...  KRR: Knowledge Representation (General/Other)\\...   \n",
       "\n",
       "                                                                                             abstract  \n",
       "title                                                                                                  \n",
       "Kernelized Bayesian Transfer Learning               Transfer learning considers related but distin...  \n",
       "\"Source Free\" Transfer Learning for Text Classi...  Transfer learning uses relevant auxiliary data...  \n",
       "A Generalization of Probabilistic Serial to Ran...  The probabilistic serial (PS) rule is one of t...  \n",
       "Lifetime Lexical Variation in Social Media          As the rapid growth of online social media att...  \n",
       "Hybrid Singular Value Thresholding for Tensor C...  In this paper, we study the low-rank tensor co...  "
      ]
     },
     "execution_count": 34,
     "metadata": {},
     "output_type": "execute_result"
    }
   ],
   "source": [
    "type(cluster.labels_)\n",
    "df2 = pd.DataFrame(cluster.labels_)\n",
    "df.append(df2)\n",
    "df.head()"
   ]
  },
  {
   "cell_type": "code",
   "execution_count": null,
   "metadata": {},
   "outputs": [],
   "source": []
  },
  {
   "cell_type": "code",
   "execution_count": null,
   "metadata": {
    "collapsed": true
   },
   "outputs": [],
   "source": []
  },
  {
   "cell_type": "code",
   "execution_count": null,
   "metadata": {
    "collapsed": true
   },
   "outputs": [],
   "source": []
  }
 ],
 "metadata": {
  "kernelspec": {
   "display_name": "Python 3",
   "language": "python",
   "name": "python3"
  },
  "language_info": {
   "codemirror_mode": {
    "name": "ipython",
    "version": 3
   },
   "file_extension": ".py",
   "mimetype": "text/x-python",
   "name": "python",
   "nbconvert_exporter": "python",
   "pygments_lexer": "ipython3",
   "version": "3.6.3"
  }
 },
 "nbformat": 4,
 "nbformat_minor": 2
}
